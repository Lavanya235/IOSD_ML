{
 "cells": [
  {
   "cell_type": "code",
   "execution_count": 1,
   "metadata": {},
   "outputs": [
    {
     "name": "stdout",
     "output_type": "stream",
     "text": [
      "70\n"
     ]
    }
   ],
   "source": [
    "def sum(a,b):\n",
    "    return a + b\n",
    "\n",
    "x = 30\n",
    "y = 40\n",
    "print(sum(x,y))"
   ]
  },
  {
   "cell_type": "code",
   "execution_count": 3,
   "metadata": {},
   "outputs": [
    {
     "name": "stdout",
     "output_type": "stream",
     "text": [
      "(70, -10)\n"
     ]
    }
   ],
   "source": [
    "def multiple_return(a,b):\n",
    "    return a+b , a-b\n",
    "    \n",
    "    \n",
    "x = 30\n",
    "y = 40\n",
    "print(multiple_return(x,y))"
   ]
  },
  {
   "cell_type": "markdown",
   "metadata": {},
   "source": [
    "#default arguments\n",
    "\n",
    "def pow(num, exp = 2):\n",
    "    return num ** exp\n",
    "\n",
    "n = 10\n",
    "e = 4\n",
    "pow(n,e)\n",
    "pow(n)"
   ]
  },
  {
   "cell_type": "code",
   "execution_count": 8,
   "metadata": {},
   "outputs": [
    {
     "name": "stdout",
     "output_type": "stream",
     "text": [
      "<class 'tuple'>\n",
      "(30, 40, 50)\n"
     ]
    },
    {
     "data": {
      "text/plain": [
       "10"
      ]
     },
     "execution_count": 8,
     "metadata": {},
     "output_type": "execute_result"
    }
   ],
   "source": [
    "#more is the variable parameter\n",
    "def variable_sum(a,b, *more):\n",
    "    print(type(more))\n",
    "    print(more)\n",
    "    return a\n",
    "\n",
    "variable_sum(10,20,30,40,50)"
   ]
  },
  {
   "cell_type": "markdown",
   "metadata": {},
   "source": [
    "# Make a calculator function::\n",
    "# addition\n",
    "# subtraction\n",
    "# modulo\n",
    "# division\n",
    "# subtraction\n",
    "# (should handle all the cases)"
   ]
  },
  {
   "cell_type": "code",
   "execution_count": null,
   "metadata": {},
   "outputs": [],
   "source": []
  }
 ],
 "metadata": {
  "kernelspec": {
   "display_name": "Python 3",
   "language": "python",
   "name": "python3"
  },
  "language_info": {
   "codemirror_mode": {
    "name": "ipython",
    "version": 3
   },
   "file_extension": ".py",
   "mimetype": "text/x-python",
   "name": "python",
   "nbconvert_exporter": "python",
   "pygments_lexer": "ipython3",
   "version": "3.6.7"
  }
 },
 "nbformat": 4,
 "nbformat_minor": 2
}
